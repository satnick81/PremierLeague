{
	"cells": [
		{
			"cell_type": "code",
			"metadata": {},
			"outputs": [
				{
					"metadata": {},
					"output_type": "display_data",
					"data": {
						"text/html": [
							"<style scoped>\n  .ansiout {\n    display: block;\n    unicode-bidi: embed;\n    white-space: pre-wrap;\n    word-wrap: break-word;\n    word-break: break-all;\n    font-family: \"Source Code Pro\", \"Menlo\", monospace;;\n    font-size: 13px;\n    color: #555;\n    margin-left: 4px;\n    line-height: 19px;\n  }\n</style>\n<div class=\"ansiout\"><span class=\"ansired\">Out[</span><span class=\"ansired\">1</span><span class=\"ansired\">]: </span>HomeGoals    1.572327\nAwayGoals    1.352201\ndtype: float64</div>"
						]
					}
				}
			],
			"execution_count": 1
		},
		{
			"cell_type": "code",
			"source": [
				"# construct Poisson  for each mean goals value\npoisson_pred = np.column_stack([[poisson.pmf(i, epl.mean()[j]) for i in range(8)] for j in range(2)])\n\n# plot histogram of actual goals\nplt.hist(epl[['HomeGoals', 'AwayGoals']].values, range(9), \n         alpha=0.7, label=['Home', 'Away'],normed=True, color=[\"#FFA07A\", \"#20B2AA\"])\n\n# add lines for the Poisson distributions\npois1, = plt.plot([i-0.5 for i in range(1,9)], poisson_pred[:,0],\n                  linestyle='-', marker='o',label=\"Home\", color = '#CD5C5C')\npois2, = plt.plot([i-0.5 for i in range(1,9)], poisson_pred[:,1],\n                  linestyle='-', marker='o',label=\"Away\", color = '#006400')\n\nleg=plt.legend(loc='upper right', fontsize=13, ncol=2)\nleg.set_title(\"Poisson           Actual        \", prop = {'size':'14', 'weight':'bold'})\n\nplt.xticks([i-0.5 for i in range(1,9)],[i for i in range(9)])\nplt.xlabel(\"Goals per Match\",size=13)\nplt.ylabel(\"Proportion of Matches\",size=13)\nplt.title(\"Number of Goals per Match (EPL 2019/20 Season)\",size=14,fontweight='bold')\nplt.ylim([-0.004, 0.4])\nplt.tight_layout()\nplt.show()"
			],
			"metadata": {},
			"outputs": [
				{
					"metadata": {},
					"output_type": "display_data",
					"data": {
						"text/html": [
							"<style scoped>\n  .ansiout {\n    display: block;\n    unicode-bidi: embed;\n    white-space: pre-wrap;\n    word-wrap: break-word;\n    word-break: break-all;\n    font-family: \"Source Code Pro\", \"Menlo\", monospace;;\n    font-size: 13px;\n    color: #555;\n    margin-left: 4px;\n    line-height: 19px;\n  }\n</style>\n<div class=\"ansiout\"></div>"
						]
					}
				}
			],
			"execution_count": 2
		},
		{
			"cell_type": "code",
			"source": [
				"# probability of draw between home and away team\ndraw_odds = skellam.pmf(0.0,  epl.mean()[0],  epl.mean()[1])\nprint(\"probability of draw between home and away team for the entire league\", draw_odds)\n\n\n# probability of home team winning by one goal\nwin_by_1 = skellam.pmf(1,  epl.mean()[0],  epl.mean()[1])\nprint(\"probability of home team winning by one goal\", win_by_1)\n"
			],
			"metadata": {},
			"outputs": [
				{
					"metadata": {},
					"output_type": "display_data",
					"data": {
						"text/html": [
							"<style scoped>\n  .ansiout {\n    display: block;\n    unicode-bidi: embed;\n    white-space: pre-wrap;\n    word-wrap: break-word;\n    word-break: break-all;\n    font-family: \"Source Code Pro\", \"Menlo\", monospace;;\n    font-size: 13px;\n    color: #555;\n    margin-left: 4px;\n    line-height: 19px;\n  }\n</style>\n<div class=\"ansiout\">probability of draw between home and away team for the entire league 0.244924195515\nprobability of home team winning by one goal 0.212236677256\n</div>"
						]
					}
				}
			],
			"execution_count": 3
		},
		{
			"cell_type": "code",
			"source": [
				"skellam_pred = [skellam.pmf(i,  epl.mean()[0],  epl.mean()[1]) for i in range(-6,8)]\n\nplt.hist(epl[['HomeGoals']].values - epl[['AwayGoals']].values, range(-6,8), \n         alpha=0.7, label='Actual',normed=True)\nplt.plot([i+0.5 for i in range(-6,8)], skellam_pred,\n                  linestyle='-', marker='o',label=\"Skellam\", color = '#CD5C5C')\nplt.legend(loc='upper right', fontsize=13)\nplt.xticks([i+0.5 for i in range(-6,8)],[i for i in range(-6,8)])\nplt.xlabel(\"Home Goals - Away Goals\",size=13)\nplt.ylabel(\"Proportion of Matches\",size=13)\nplt.title(\"Difference in Goals Scored (Home Team vs Away Team)\",size=14,fontweight='bold')\nplt.ylim([-0.004, 0.26])\nplt.tight_layout()\nplt.show()"
			],
			"metadata": {},
			"outputs": [
				{
					"metadata": {},
					"output_type": "display_data",
					"data": {
						"text/html": [
							"<style scoped>\n  .ansiout {\n    display: block;\n    unicode-bidi: embed;\n    white-space: pre-wrap;\n    word-wrap: break-word;\n    word-break: break-all;\n    font-family: \"Source Code Pro\", \"Menlo\", monospace;;\n    font-size: 13px;\n    color: #555;\n    margin-left: 4px;\n    line-height: 19px;\n  }\n</style>\n<div class=\"ansiout\"></div>"
						]
					}
				}
			],
			"execution_count": 4
		},
		{
			"cell_type": "code",
			"source": [
				"fig,(ax1,ax2) = plt.subplots(2, 1)\n\n\nteam1_home = epl[epl['HomeTeam']=='Chelsea'][['HomeGoals']].apply(pd.value_counts,normalize=True)\nteam1_home_pois = [poisson.pmf(i,np.sum(np.multiply(team1_home.values.T,team1_home.index.T),axis=1)[0]) for i in range(8)]\nteam2_home = epl[epl['HomeTeam']=='Liverpool'][['HomeGoals']].apply(pd.value_counts,normalize=True)\nteam2_home_pois = [poisson.pmf(i,np.sum(np.multiply(team2_home.values.T,team2_home.index.T),axis=1)[0]) for i in range(8)]\n\nteam1_away = epl[epl['AwayTeam']=='Chelsea'][['AwayGoals']].apply(pd.value_counts,normalize=True)\nteam1_away_pois = [poisson.pmf(i,np.sum(np.multiply(team1_away.values.T,team1_away.index.T),axis=1)[0]) for i in range(8)]\nteam2_away = epl[epl['AwayTeam']=='Liverpool'][['AwayGoals']].apply(pd.value_counts,normalize=True)\nteam2_away_pois = [poisson.pmf(i,np.sum(np.multiply(team2_away.values.T,team2_away.index.T),axis=1)[0]) for i in range(8)]\n\n#ax1.bar(team1_home.index-0.4,team1_home.values,width=0.4,color=\"#034694\",label=\"Chelsea\")\n#ax1.bar(team2_home.index,team2_home.values,width=0.4,color=\"#EB172B\",label=\"Liverpool\")\npois1, = ax1.plot([i for i in range(8)], team1_home_pois,\n                  linestyle='-', marker='o',label=\"Home Team\", color = \"#0a7bff\")\npois1, = ax1.plot([i for i in range(8)], team2_home_pois,\n                  linestyle='-', marker='o',label=\"Away Team\", color = \"#ff7c89\")\nleg=ax1.legend(loc='upper right', fontsize=12, ncol=2)\nleg.set_title(\"Poisson                 Actual                \", prop = {'size':'14', 'weight':'bold'})\nax1.set_xlim([-0.5,7.5])\nax1.set_ylim([-0.01,0.65])\nax1.set_xticklabels([])\n# mimicing the facet plots in ggplot2 with a bit of a hack\nax1.text(7.65, 0.585, '                Home                ', rotation=-90,\n        bbox={'facecolor':'#ffbcf6', 'alpha':0.5, 'pad':5})\nax2.text(7.65, 0.585, '                Away                ', rotation=-90,\n        bbox={'facecolor':'#ffbcf6', 'alpha':0.5, 'pad':5})\n\n#ax2.bar(team1_away.index-0.4,team1_away.values,width=0.4,color=\"#034694\",label=\"Chelsea\")\n#ax2.bar(team2_away.index,team2_away.values,width=0.4,color=\"#EB172B\",label=\"Sunderland\")\npois1, = ax2.plot([i for i in range(8)], team1_away_pois,\n                  linestyle='-', marker='o',label=\"Home Team\", color = \"#0a7bff\")\npois1, = ax2.plot([i for i in range(8)], team2_away_pois,\n                  linestyle='-', marker='o',label=\"Away Team\", color = \"#ff7c89\")\nax2.set_xlim([-0.5,7.5])\nax2.set_ylim([-0.01,0.65])\nax1.set_title(\"Number of Goals per Match (EPL 2019/20 Season)\",size=14,fontweight='bold')\nax2.set_xlabel(\"Goals per Match\",size=13)\nax2.text(-1.15, 0.9, 'Proportion of Matches', rotation=90, size=13)\nplt.tight_layout()\nplt.show()"
			],
			"metadata": {},
			"outputs": [
				{
					"metadata": {},
					"output_type": "display_data",
					"data": {
						"text/html": [
							"<style scoped>\n  .ansiout {\n    display: block;\n    unicode-bidi: embed;\n    white-space: pre-wrap;\n    word-wrap: break-word;\n    word-break: break-all;\n    font-family: \"Source Code Pro\", \"Menlo\", monospace;;\n    font-size: 13px;\n    color: #555;\n    margin-left: 4px;\n    line-height: 19px;\n  }\n</style>\n<div class=\"ansiout\"></div>"
						]
					}
				}
			],
			"execution_count": 5
		},
		{
			"cell_type": "code",
			"source": [
				"# importing the tools required for the Poisson regression model\nimport statsmodels.api as sm\nimport statsmodels.formula.api as smf\nn_columns = 0\nn_rows=0\ngoal_model_data = pd.concat([epl[['HomeTeam','AwayTeam','HomeGoals']].assign(home=1).rename(\n            columns={'HomeTeam':'team', 'AwayTeam':'opponent','HomeGoals':'goals'}),\n           epl[['AwayTeam','HomeTeam','AwayGoals']].assign(home=0).rename(\n            columns={'AwayTeam':'team', 'HomeTeam':'opponent','AwayGoals':'goals'})])\n\npoisson_model = smf.glm(formula=\"goals ~ home + team + opponent\", data=goal_model_data, \n                        family=sm.families.Poisson()).fit()\npd.DataFrame(columns = range(0,5), index= range(0,n_rows))\n\npoisson_model.summary()"
			],
			"metadata": {},
			"outputs": [
				{
					"metadata": {},
					"output_type": "display_data",
					"data": {
						"text/html": [
							"<table class=\"simpletable\">\n<caption>Generalized Linear Model Regression Results</caption>\n<tr>\n  <th>Dep. Variable:</th>        <td>goals</td>      <th>  No. Observations:  </th>  <td>   318</td> \n</tr>\n<tr>\n  <th>Model:</th>                 <td>GLM</td>       <th>  Df Residuals:      </th>  <td>   278</td> \n</tr>\n<tr>\n  <th>Model Family:</th>        <td>Poisson</td>     <th>  Df Model:          </th>  <td>    39</td> \n</tr>\n<tr>\n  <th>Link Function:</th>         <td>log</td>       <th>  Scale:             </th>    <td>1.0</td>  \n</tr>\n<tr>\n  <th>Method:</th>               <td>IRLS</td>       <th>  Log-Likelihood:    </th> <td> -438.57</td>\n</tr>\n<tr>\n  <th>Date:</th>           <td>Mon, 09 Dec 2019</td> <th>  Deviance:          </th> <td>  275.55</td>\n</tr>\n<tr>\n  <th>Time:</th>               <td>19:18:46</td>     <th>  Pearson chi2:      </th>  <td>  226.</td> \n</tr>\n<tr>\n  <th>No. Iterations:</th>         <td>8</td>        <th>                     </th>     <td> </td>   \n</tr>\n</table>\n<table class=\"simpletable\">\n<tr>\n                <td></td>                  <th>coef</th>     <th>std err</th>      <th>z</th>      <th>P>|z|</th> <th>[95.0% Conf. Int.]</th> \n</tr>\n<tr>\n  <th>Intercept</th>                    <td>    0.3761</td> <td>    0.313</td> <td>    1.200</td> <td> 0.230</td> <td>   -0.238     0.990</td>\n</tr>\n<tr>\n  <th>team[T.Aston Villa]</th>          <td>    0.0442</td> <td>    0.305</td> <td>    0.145</td> <td> 0.885</td> <td>   -0.554     0.642</td>\n</tr>\n<tr>\n  <th>team[T.Bournemouth]</th>          <td>   -0.2204</td> <td>    0.324</td> <td>   -0.680</td> <td> 0.496</td> <td>   -0.855     0.414</td>\n</tr>\n<tr>\n  <th>team[T.Brighton]</th>             <td>   -0.1723</td> <td>    0.315</td> <td>   -0.547</td> <td> 0.584</td> <td>   -0.790     0.445</td>\n</tr>\n<tr>\n  <th>team[T.Burnley]</th>              <td>   -0.0927</td> <td>    0.312</td> <td>   -0.298</td> <td> 0.766</td> <td>   -0.704     0.518</td>\n</tr>\n<tr>\n  <th>team[T.Chelsea]</th>              <td>    0.3280</td> <td>    0.285</td> <td>    1.151</td> <td> 0.250</td> <td>   -0.230     0.886</td>\n</tr>\n<tr>\n  <th>team[T.Crystal Palace]</th>       <td>   -0.4831</td> <td>    0.348</td> <td>   -1.389</td> <td> 0.165</td> <td>   -1.165     0.199</td>\n</tr>\n<tr>\n  <th>team[T.Everton]</th>              <td>   -0.1897</td> <td>    0.318</td> <td>   -0.596</td> <td> 0.551</td> <td>   -0.813     0.434</td>\n</tr>\n<tr>\n  <th>team[T.Leicester]</th>            <td>    0.5352</td> <td>    0.273</td> <td>    1.963</td> <td> 0.050</td> <td>    0.001     1.069</td>\n</tr>\n<tr>\n  <th>team[T.Liverpool]</th>            <td>    0.5580</td> <td>    0.272</td> <td>    2.050</td> <td> 0.040</td> <td>    0.025     1.091</td>\n</tr>\n<tr>\n  <th>team[T.Man City]</th>             <td>    0.6039</td> <td>    0.267</td> <td>    2.263</td> <td> 0.024</td> <td>    0.081     1.127</td>\n</tr>\n<tr>\n  <th>team[T.Man United]</th>           <td>    0.1265</td> <td>    0.299</td> <td>    0.423</td> <td> 0.672</td> <td>   -0.459     0.712</td>\n</tr>\n<tr>\n  <th>team[T.Newcastle]</th>            <td>   -0.2960</td> <td>    0.328</td> <td>   -0.901</td> <td> 0.367</td> <td>   -0.940     0.348</td>\n</tr>\n<tr>\n  <th>team[T.Norwich]</th>              <td>   -0.3042</td> <td>    0.329</td> <td>   -0.924</td> <td> 0.355</td> <td>   -0.949     0.341</td>\n</tr>\n<tr>\n  <th>team[T.Sheffield United]</th>     <td>   -0.1948</td> <td>    0.319</td> <td>   -0.611</td> <td> 0.541</td> <td>   -0.820     0.430</td>\n</tr>\n<tr>\n  <th>team[T.Southampton]</th>          <td>   -0.2074</td> <td>    0.324</td> <td>   -0.641</td> <td> 0.522</td> <td>   -0.842     0.427</td>\n</tr>\n<tr>\n  <th>team[T.Tottenham]</th>            <td>    0.2940</td> <td>    0.287</td> <td>    1.024</td> <td> 0.306</td> <td>   -0.269     0.857</td>\n</tr>\n<tr>\n  <th>team[T.Watford]</th>              <td>   -0.9426</td> <td>    0.401</td> <td>   -2.353</td> <td> 0.019</td> <td>   -1.728    -0.157</td>\n</tr>\n<tr>\n  <th>team[T.West Ham]</th>             <td>   -0.2337</td> <td>    0.328</td> <td>   -0.712</td> <td> 0.476</td> <td>   -0.877     0.410</td>\n</tr>\n<tr>\n  <th>team[T.Wolves]</th>               <td>   -0.0020</td> <td>    0.305</td> <td>   -0.007</td> <td> 0.995</td> <td>   -0.600     0.595</td>\n</tr>\n<tr>\n  <th>opponent[T.Aston Villa]</th>      <td>    0.0206</td> <td>    0.284</td> <td>    0.072</td> <td> 0.942</td> <td>   -0.537     0.578</td>\n</tr>\n<tr>\n  <th>opponent[T.Bournemouth]</th>      <td>   -0.0739</td> <td>    0.294</td> <td>   -0.252</td> <td> 0.801</td> <td>   -0.650     0.502</td>\n</tr>\n<tr>\n  <th>opponent[T.Brighton]</th>         <td>   -0.1348</td> <td>    0.295</td> <td>   -0.457</td> <td> 0.647</td> <td>   -0.712     0.443</td>\n</tr>\n<tr>\n  <th>opponent[T.Burnley]</th>          <td>    0.0915</td> <td>    0.282</td> <td>    0.324</td> <td> 0.746</td> <td>   -0.462     0.645</td>\n</tr>\n<tr>\n  <th>opponent[T.Chelsea]</th>          <td>   -0.0400</td> <td>    0.294</td> <td>   -0.136</td> <td> 0.892</td> <td>   -0.616     0.536</td>\n</tr>\n<tr>\n  <th>opponent[T.Crystal Palace]</th>   <td>   -0.4137</td> <td>    0.317</td> <td>   -1.304</td> <td> 0.192</td> <td>   -1.035     0.208</td>\n</tr>\n<tr>\n  <th>opponent[T.Everton]</th>          <td>    0.0597</td> <td>    0.283</td> <td>    0.211</td> <td> 0.833</td> <td>   -0.496     0.615</td>\n</tr>\n<tr>\n  <th>opponent[T.Leicester]</th>        <td>   -0.8911</td> <td>    0.380</td> <td>   -2.342</td> <td> 0.019</td> <td>   -1.637    -0.145</td>\n</tr>\n<tr>\n  <th>opponent[T.Liverpool]</th>        <td>   -0.6128</td> <td>    0.341</td> <td>   -1.796</td> <td> 0.073</td> <td>   -1.282     0.056</td>\n</tr>\n<tr>\n  <th>opponent[T.Man City]</th>         <td>   -0.2198</td> <td>    0.312</td> <td>   -0.704</td> <td> 0.481</td> <td>   -0.831     0.392</td>\n</tr>\n<tr>\n  <th>opponent[T.Man United]</th>       <td>   -0.3442</td> <td>    0.312</td> <td>   -1.102</td> <td> 0.270</td> <td>   -0.956     0.268</td>\n</tr>\n<tr>\n  <th>opponent[T.Newcastle]</th>        <td>   -0.1790</td> <td>    0.297</td> <td>   -0.603</td> <td> 0.547</td> <td>   -0.761     0.403</td>\n</tr>\n<tr>\n  <th>opponent[T.Norwich]</th>          <td>    0.3258</td> <td>    0.274</td> <td>    1.190</td> <td> 0.234</td> <td>   -0.211     0.863</td>\n</tr>\n<tr>\n  <th>opponent[T.Sheffield United]</th> <td>   -0.4418</td> <td>    0.328</td> <td>   -1.348</td> <td> 0.178</td> <td>   -1.084     0.201</td>\n</tr>\n<tr>\n  <th>opponent[T.Southampton]</th>      <td>    0.2589</td> <td>    0.271</td> <td>    0.955</td> <td> 0.339</td> <td>   -0.272     0.790</td>\n</tr>\n<tr>\n  <th>opponent[T.Tottenham]</th>        <td>   -0.1066</td> <td>    0.298</td> <td>   -0.358</td> <td> 0.720</td> <td>   -0.690     0.477</td>\n</tr>\n<tr>\n  <th>opponent[T.Watford]</th>          <td>    0.1585</td> <td>    0.281</td> <td>    0.564</td> <td> 0.572</td> <td>   -0.392     0.709</td>\n</tr>\n<tr>\n  <th>opponent[T.West Ham]</th>         <td>    0.0984</td> <td>    0.292</td> <td>    0.337</td> <td> 0.736</td> <td>   -0.474     0.671</td>\n</tr>\n<tr>\n  <th>opponent[T.Wolves]</th>           <td>   -0.2632</td> <td>    0.314</td> <td>   -0.839</td> <td> 0.401</td> <td>   -0.878     0.351</td>\n</tr>\n<tr>\n  <th>home</th>                         <td>    0.1450</td> <td>    0.094</td> <td>    1.548</td> <td> 0.122</td> <td>   -0.039     0.328</td>\n</tr>\n</table>"
						]
					}
				}
			],
			"execution_count": 6
		},
		{
			"cell_type": "code",
			"source": [
				"import urllib.request\nfrom bs4 import BeautifulSoup\nuser_agent = 'Mozilla/5.0 (Windows; U; Windows NT 5.1; en-US; rv:1.9.0.7) Gecko/2009021910 Firefox/3.0.7'\n\nurl = \"https://www.oddschecker.com/football/english/premier-league\"\nheaders={'User-Agent':user_agent,} \n\nrequest=urllib.request.Request(url,None,headers) #The assembled request\nresponse = urllib.request.urlopen(request)\ndata = response.read() # The data u need\nsoup = BeautifulSoup(data , \"lxml\")\ntable = soup.find_all('table')[0]\n\n\n    # Find number of rows and columns\n# we also find the column titles if we can\nfor row in table.find_all('tr'):\n\n    # Determine the number of rows in the table\n    td_tags = row.find_all('p')\n    if len(td_tags) > 0:\n        n_rows+=1\n        if n_columns == 0:\n            # Set the number of columns for our table\n            n_columns = len(td_tags)\n\ndf = pd.DataFrame(columns = range(0,6),\n                  index= range(0,n_rows))\nrow_marker = 0\nidentity = 0\nfor row in table.find_all('tr'):\n    column_marker = 0\n    columns = row.find_all('p')\n    for column in columns:\n        df.iat[row_marker,column_marker] = column.get_text()\n        column_marker += 1\n        \n    if len(columns) > 0:\n        df.iat[row_marker,column_marker] = identity\n        identity += 1\n        row_marker += 1\n        \nheader = ['hometeam','awayteam','homeodds','drawodds','awayodds', 'id']\ndf.columns=(header)\n"
			],
			"metadata": {},
			"outputs": [
				{
					"metadata": {},
					"output_type": "display_data",
					"data": {
						"text/html": [
							"<style scoped>\n  .ansiout {\n    display: block;\n    unicode-bidi: embed;\n    white-space: pre-wrap;\n    word-wrap: break-word;\n    word-break: break-all;\n    font-family: \"Source Code Pro\", \"Menlo\", monospace;;\n    font-size: 13px;\n    color: #555;\n    margin-left: 4px;\n    line-height: 19px;\n  }\n</style>\n<div class=\"ansiout\"></div>"
						]
					}
				}
			],
			"execution_count": 7
		},
		{
			"cell_type": "code",
			"source": [
				"hometeam = []\nawayteam = []\nhomeodds = []\ndrawodds = []\nawayodds = []\nid = []\nall_names = list(set(epl[\"HomeTeam\"]))\n\nfor (hometeam_v, awayteam_v, home_fraction, draw_fraction, away_fraction, ids) in zip(df['hometeam'],df['awayteam'],df['homeodds'],df['drawodds'],df['awayodds'], df['id']):\n  for (cleanname,name) in zip(all_names,df['hometeam']):\n    if hometeam_v[:5] == cleanname[:5]:\n      hometeam.append(cleanname)\n    if awayteam_v[:5] == cleanname[:5]:\n      awayteam.append(cleanname)\n  homeodd_raw = eval(home_fraction)\n  homeodds_v = (1/(homeodd_raw+ 1))\n  homeodds.append(homeodds_v)\n  drawodd_raw = eval(draw_fraction)\n  drawodd_raw_v = (1/(drawodd_raw+ 1))\n  drawodds.append(drawodd_raw_v)\n  awayodds_raw = eval(away_fraction)\n  awayodds_v = (1/(awayodds_raw+ 1))\n  awayodds.append(awayodds_v)\n  id.append(ids)\n\n  \npercentagedf = pd.DataFrame(list(zip(hometeam, awayteam, homeodds, drawodds,awayodds,id)),\n  columns=['hometeam','awayteam','homeodds','drawodds','awayodds', 'id'])"
			],
			"metadata": {},
			"outputs": [
				{
					"metadata": {},
					"output_type": "display_data",
					"data": {
						"text/html": [
							"<style scoped>\n  .ansiout {\n    display: block;\n    unicode-bidi: embed;\n    white-space: pre-wrap;\n    word-wrap: break-word;\n    word-break: break-all;\n    font-family: \"Source Code Pro\", \"Menlo\", monospace;;\n    font-size: 13px;\n    color: #555;\n    margin-left: 4px;\n    line-height: 19px;\n  }\n</style>\n<div class=\"ansiout\"></div>"
						]
					}
				}
			],
			"execution_count": 8
		},
		{
			"cell_type": "code",
			"source": [
				"percentagedf"
			],
			"metadata": {},
			"outputs": [
				{
					"metadata": {},
					"output_type": "display_data",
					"data": {
						"text/html": [
							"<div style=\"max-width:1500px;overflow:auto;\">\n<table border=\"1\" class=\"dataframe\">\n  <thead>\n    <tr style=\"text-align: right;\">\n      <th></th>\n      <th>hometeam</th>\n      <th>awayteam</th>\n      <th>homeodds</th>\n      <th>drawodds</th>\n      <th>awayodds</th>\n      <th>id</th>\n    </tr>\n  </thead>\n  <tbody>\n    <tr>\n      <th>0</th>\n      <td>West Ham</td>\n      <td>Arsenal</td>\n      <td>0.274194</td>\n      <td>0.230769</td>\n      <td>0.491525</td>\n      <td>0</td>\n    </tr>\n    <tr>\n      <th>1</th>\n      <td>Liverpool</td>\n      <td>Watford</td>\n      <td>0.818182</td>\n      <td>0.129870</td>\n      <td>0.058824</td>\n      <td>1</td>\n    </tr>\n    <tr>\n      <th>2</th>\n      <td>Burnley</td>\n      <td>Newcastle</td>\n      <td>0.476190</td>\n      <td>0.277778</td>\n      <td>0.255319</td>\n      <td>2</td>\n    </tr>\n    <tr>\n      <th>3</th>\n      <td>Chelsea</td>\n      <td>Bournemouth</td>\n      <td>0.750000</td>\n      <td>0.152778</td>\n      <td>0.083333</td>\n      <td>3</td>\n    </tr>\n    <tr>\n      <th>4</th>\n      <td>Leicester</td>\n      <td>Norwich</td>\n      <td>0.800000</td>\n      <td>0.140845</td>\n      <td>0.066667</td>\n      <td>4</td>\n    </tr>\n    <tr>\n      <th>5</th>\n      <td>Sheffield United</td>\n      <td>Aston Villa</td>\n      <td>0.500000</td>\n      <td>0.260274</td>\n      <td>0.232558</td>\n      <td>5</td>\n    </tr>\n    <tr>\n      <th>6</th>\n      <td>Southampton</td>\n      <td>West Ham</td>\n      <td>0.512821</td>\n      <td>0.246753</td>\n      <td>0.256410</td>\n      <td>6</td>\n    </tr>\n    <tr>\n      <th>7</th>\n      <td>Man United</td>\n      <td>Everton</td>\n      <td>0.551724</td>\n      <td>0.263158</td>\n      <td>0.197917</td>\n      <td>7</td>\n    </tr>\n    <tr>\n      <th>8</th>\n      <td>Wolves</td>\n      <td>Tottenham</td>\n      <td>0.294118</td>\n      <td>0.275000</td>\n      <td>0.434783</td>\n      <td>8</td>\n    </tr>\n    <tr>\n      <th>9</th>\n      <td>Arsenal</td>\n      <td>Man City</td>\n      <td>0.160000</td>\n      <td>0.181818</td>\n      <td>0.666667</td>\n      <td>9</td>\n    </tr>\n    <tr>\n      <th>10</th>\n      <td>Crystal Palace</td>\n      <td>Brighton</td>\n      <td>0.396226</td>\n      <td>0.294118</td>\n      <td>0.322581</td>\n      <td>10</td>\n    </tr>\n    <tr>\n      <th>11</th>\n      <td>Everton</td>\n      <td>Arsenal</td>\n      <td>0.380952</td>\n      <td>0.258065</td>\n      <td>0.347826</td>\n      <td>11</td>\n    </tr>\n    <tr>\n      <th>12</th>\n      <td>Aston Villa</td>\n      <td>Southampton</td>\n      <td>0.416667</td>\n      <td>0.260274</td>\n      <td>0.322581</td>\n      <td>12</td>\n    </tr>\n    <tr>\n      <th>13</th>\n      <td>Bournemouth</td>\n      <td>Burnley</td>\n      <td>0.441860</td>\n      <td>0.270270</td>\n      <td>0.303030</td>\n      <td>13</td>\n    </tr>\n    <tr>\n      <th>14</th>\n      <td>Brighton</td>\n      <td>Sheffield United</td>\n      <td>0.421053</td>\n      <td>0.290323</td>\n      <td>0.296296</td>\n      <td>14</td>\n    </tr>\n    <tr>\n      <th>15</th>\n      <td>Newcastle</td>\n      <td>Crystal Palace</td>\n      <td>0.400000</td>\n      <td>0.303030</td>\n      <td>0.318182</td>\n      <td>15</td>\n    </tr>\n    <tr>\n      <th>16</th>\n      <td>Norwich</td>\n      <td>Wolves</td>\n      <td>0.256410</td>\n      <td>0.260274</td>\n      <td>0.500000</td>\n      <td>16</td>\n    </tr>\n    <tr>\n      <th>17</th>\n      <td>Man City</td>\n      <td>Leicester</td>\n      <td>0.666667</td>\n      <td>0.200000</td>\n      <td>0.151515</td>\n      <td>17</td>\n    </tr>\n    <tr>\n      <th>18</th>\n      <td>Watford</td>\n      <td>Man United</td>\n      <td>0.227273</td>\n      <td>0.251572</td>\n      <td>0.523810</td>\n      <td>18</td>\n    </tr>\n    <tr>\n      <th>19</th>\n      <td>Tottenham</td>\n      <td>Chelsea</td>\n      <td>0.421053</td>\n      <td>0.256410</td>\n      <td>0.333333</td>\n      <td>19</td>\n    </tr>\n  </tbody>\n</table>\n</div>"
						]
					}
				}
			],
			"execution_count": 9
		},
		{
			"cell_type": "code",
			"source": [
				"def simulate_match(foot_model, homeTeam, awayTeam, max_goals=10):\n    home_goals_avg = foot_model.predict(pd.DataFrame(data={'team': homeTeam,'opponent': awayTeam,'home':1},index=[1]))[0]\n    away_goals_avg = foot_model.predict(pd.DataFrame(data={'team': awayTeam, \n                                                            'opponent': homeTeam,'home':0},\n                                                      index=[1]))[0]\n    team_pred = [[poisson.pmf(i, team_avg) for i in range(0, max_goals+1)] for team_avg in [home_goals_avg, away_goals_avg]]\n    return(np.outer(np.array(team_pred[0]), np.array(team_pred[1])))\n\nhometeam = []\nawayteam = []\nhome_prob = []\ndraw_prob = []\naway_prob = []\nidprob = []\n\nids = 0\nfor (ht,at) in zip(percentagedf.iloc[:, 0], percentagedf.iloc[:, 1]):\n    if ht.find(\"Utd\") >=0:\n        ht= ht.replace(\"Utd\", \"United\")\n        at = at.replace(\"Utd\", \"United\")\n    elif at.find(\"Utd\") >=0:\n        ht= ht.replace(\"Utd\", \"United\")\n        at = at.replace(\"Utd\", \"United\")\n    odds_matrix = simulate_match(poisson_model, ht, at, max_goals = 10)\n    home_probability = np.sum(np.tril(odds_matrix, -1))\n    draw_probability = np.sum(np.diag(odds_matrix))\n    away_probability = np.sum(np.triu(odds_matrix, 1))\n    hometeam.append(ht)\n    awayteam.append(at)\n    home_prob.append(home_probability)\n    draw_prob.append(draw_probability)\n    away_prob.append(away_probability)\n    idprob.append(ids)\n    ids +=1\n\npercentile_list = pd.DataFrame(\n    {'id': idprob,\n     'hometeam': hometeam,\n     'awayteam': awayteam,\n     'home_prob': home_prob,\n     'draw_prob': draw_prob,\n     'away_prob': away_prob\n    })\n\nTotal_Odds = percentile_list.merge(percentagedf, on = 'id')"
			],
			"metadata": {},
			"outputs": [
				{
					"metadata": {},
					"output_type": "display_data",
					"data": {
						"text/html": [
							"<style scoped>\n  .ansiout {\n    display: block;\n    unicode-bidi: embed;\n    white-space: pre-wrap;\n    word-wrap: break-word;\n    word-break: break-all;\n    font-family: \"Source Code Pro\", \"Menlo\", monospace;;\n    font-size: 13px;\n    color: #555;\n    margin-left: 4px;\n    line-height: 19px;\n  }\n</style>\n<div class=\"ansiout\"></div>"
						]
					}
				}
			],
			"execution_count": 10
		},
		{
			"cell_type": "code",
			"source": [
				"Total_Odds"
			],
			"metadata": {},
			"outputs": [
				{
					"metadata": {},
					"output_type": "display_data",
					"data": {
						"text/html": [
							"<div style=\"max-width:1500px;overflow:auto;\">\n<table border=\"1\" class=\"dataframe\">\n  <thead>\n    <tr style=\"text-align: right;\">\n      <th></th>\n      <th>away_prob</th>\n      <th>awayteam_x</th>\n      <th>draw_prob</th>\n      <th>home_prob</th>\n      <th>hometeam_x</th>\n      <th>id</th>\n      <th>hometeam_y</th>\n      <th>awayteam_y</th>\n      <th>homeodds</th>\n      <th>drawodds</th>\n      <th>awayodds</th>\n    </tr>\n  </thead>\n  <tbody>\n    <tr>\n      <th>0</th>\n      <td>0.439058</td>\n      <td>Arsenal</td>\n      <td>0.243287</td>\n      <td>0.317654</td>\n      <td>West Ham</td>\n      <td>0</td>\n      <td>West Ham</td>\n      <td>Arsenal</td>\n      <td>0.274194</td>\n      <td>0.230769</td>\n      <td>0.491525</td>\n    </tr>\n    <tr>\n      <th>1</th>\n      <td>0.013459</td>\n      <td>Watford</td>\n      <td>0.055616</td>\n      <td>0.930021</td>\n      <td>Liverpool</td>\n      <td>1</td>\n      <td>Liverpool</td>\n      <td>Watford</td>\n      <td>0.818182</td>\n      <td>0.129870</td>\n      <td>0.058824</td>\n    </tr>\n    <tr>\n      <th>2</th>\n      <td>0.341233</td>\n      <td>Newcastle</td>\n      <td>0.271564</td>\n      <td>0.387202</td>\n      <td>Burnley</td>\n      <td>2</td>\n      <td>Burnley</td>\n      <td>Newcastle</td>\n      <td>0.476190</td>\n      <td>0.277778</td>\n      <td>0.255319</td>\n    </tr>\n    <tr>\n      <th>3</th>\n      <td>0.187560</td>\n      <td>Bournemouth</td>\n      <td>0.200152</td>\n      <td>0.612271</td>\n      <td>Chelsea</td>\n      <td>3</td>\n      <td>Chelsea</td>\n      <td>Bournemouth</td>\n      <td>0.750000</td>\n      <td>0.152778</td>\n      <td>0.083333</td>\n    </tr>\n    <tr>\n      <th>4</th>\n      <td>0.013801</td>\n      <td>Norwich</td>\n      <td>0.044286</td>\n      <td>0.939161</td>\n      <td>Leicester</td>\n      <td>4</td>\n      <td>Leicester</td>\n      <td>Norwich</td>\n      <td>0.800000</td>\n      <td>0.140845</td>\n      <td>0.066667</td>\n    </tr>\n    <tr>\n      <th>5</th>\n      <td>0.260634</td>\n      <td>Aston Villa</td>\n      <td>0.268880</td>\n      <td>0.470485</td>\n      <td>Sheffield United</td>\n      <td>5</td>\n      <td>Sheffield United</td>\n      <td>Aston Villa</td>\n      <td>0.500000</td>\n      <td>0.260274</td>\n      <td>0.232558</td>\n    </tr>\n    <tr>\n      <th>6</th>\n      <td>0.375033</td>\n      <td>West Ham</td>\n      <td>0.242824</td>\n      <td>0.382142</td>\n      <td>Southampton</td>\n      <td>6</td>\n      <td>Southampton</td>\n      <td>West Ham</td>\n      <td>0.512821</td>\n      <td>0.246753</td>\n      <td>0.256410</td>\n    </tr>\n    <tr>\n      <th>7</th>\n      <td>0.149049</td>\n      <td>Everton</td>\n      <td>0.204035</td>\n      <td>0.646906</td>\n      <td>Man United</td>\n      <td>7</td>\n      <td>Man United</td>\n      <td>Everton</td>\n      <td>0.551724</td>\n      <td>0.263158</td>\n      <td>0.197917</td>\n    </tr>\n    <tr>\n      <th>8</th>\n      <td>0.376974</td>\n      <td>Tottenham</td>\n      <td>0.242406</td>\n      <td>0.380618</td>\n      <td>Wolves</td>\n      <td>8</td>\n      <td>Wolves</td>\n      <td>Tottenham</td>\n      <td>0.294118</td>\n      <td>0.275000</td>\n      <td>0.434783</td>\n    </tr>\n    <tr>\n      <th>9</th>\n      <td>0.653825</td>\n      <td>Man City</td>\n      <td>0.170861</td>\n      <td>0.175206</td>\n      <td>Arsenal</td>\n      <td>9</td>\n      <td>Arsenal</td>\n      <td>Man City</td>\n      <td>0.160000</td>\n      <td>0.181818</td>\n      <td>0.666667</td>\n    </tr>\n    <tr>\n      <th>10</th>\n      <td>0.304157</td>\n      <td>Brighton</td>\n      <td>0.337694</td>\n      <td>0.358149</td>\n      <td>Crystal Palace</td>\n      <td>10</td>\n      <td>Crystal Palace</td>\n      <td>Brighton</td>\n      <td>0.396226</td>\n      <td>0.294118</td>\n      <td>0.322581</td>\n    </tr>\n    <tr>\n      <th>11</th>\n      <td>0.411485</td>\n      <td>Arsenal</td>\n      <td>0.245067</td>\n      <td>0.343446</td>\n      <td>Everton</td>\n      <td>11</td>\n      <td>Everton</td>\n      <td>Arsenal</td>\n      <td>0.380952</td>\n      <td>0.258065</td>\n      <td>0.347826</td>\n    </tr>\n    <tr>\n      <th>12</th>\n      <td>0.191611</td>\n      <td>Southampton</td>\n      <td>0.193857</td>\n      <td>0.614505</td>\n      <td>Aston Villa</td>\n      <td>12</td>\n      <td>Aston Villa</td>\n      <td>Southampton</td>\n      <td>0.416667</td>\n      <td>0.260274</td>\n      <td>0.322581</td>\n    </tr>\n    <tr>\n      <th>13</th>\n      <td>0.315706</td>\n      <td>Burnley</td>\n      <td>0.255176</td>\n      <td>0.429118</td>\n      <td>Bournemouth</td>\n      <td>13</td>\n      <td>Bournemouth</td>\n      <td>Burnley</td>\n      <td>0.441860</td>\n      <td>0.270270</td>\n      <td>0.303030</td>\n    </tr>\n    <tr>\n      <th>14</th>\n      <td>0.380312</td>\n      <td>Sheffield United</td>\n      <td>0.311397</td>\n      <td>0.308291</td>\n      <td>Brighton</td>\n      <td>14</td>\n      <td>Brighton</td>\n      <td>Sheffield United</td>\n      <td>0.421053</td>\n      <td>0.290323</td>\n      <td>0.296296</td>\n    </tr>\n    <tr>\n      <th>15</th>\n      <td>0.300049</td>\n      <td>Crystal Palace</td>\n      <td>0.355710</td>\n      <td>0.344241</td>\n      <td>Newcastle</td>\n      <td>15</td>\n      <td>Newcastle</td>\n      <td>Crystal Palace</td>\n      <td>0.400000</td>\n      <td>0.303030</td>\n      <td>0.318182</td>\n    </tr>\n    <tr>\n      <th>16</th>\n      <td>0.619379</td>\n      <td>Wolves</td>\n      <td>0.209127</td>\n      <td>0.171486</td>\n      <td>Norwich</td>\n      <td>16</td>\n      <td>Norwich</td>\n      <td>Wolves</td>\n      <td>0.256410</td>\n      <td>0.260274</td>\n      <td>0.500000</td>\n    </tr>\n    <tr>\n      <th>17</th>\n      <td>0.544098</td>\n      <td>Leicester</td>\n      <td>0.216380</td>\n      <td>0.239513</td>\n      <td>Man City</td>\n      <td>17</td>\n      <td>Man City</td>\n      <td>Leicester</td>\n      <td>0.666667</td>\n      <td>0.200000</td>\n      <td>0.151515</td>\n    </tr>\n    <tr>\n      <th>18</th>\n      <td>0.728260</td>\n      <td>Man United</td>\n      <td>0.192401</td>\n      <td>0.079333</td>\n      <td>Watford</td>\n      <td>18</td>\n      <td>Watford</td>\n      <td>Man United</td>\n      <td>0.227273</td>\n      <td>0.251572</td>\n      <td>0.523810</td>\n    </tr>\n    <tr>\n      <th>19</th>\n      <td>0.329824</td>\n      <td>Chelsea</td>\n      <td>0.204547</td>\n      <td>0.465608</td>\n      <td>Tottenham</td>\n      <td>19</td>\n      <td>Tottenham</td>\n      <td>Chelsea</td>\n      <td>0.421053</td>\n      <td>0.256410</td>\n      <td>0.333333</td>\n    </tr>\n  </tbody>\n</table>\n</div>"
						]
					}
				}
			],
			"execution_count": 11
		},
		{
			"cell_type": "code",
			"metadata": {},
			"outputs": [
				{
					"metadata": {},
					"output_type": "display_data",
					"data": {
						"text/html": [
							"<style scoped>\n  .ansiout {\n    display: block;\n    unicode-bidi: embed;\n    white-space: pre-wrap;\n    word-wrap: break-word;\n    word-break: break-all;\n    font-family: \"Source Code Pro\", \"Menlo\", monospace;;\n    font-size: 13px;\n    color: #555;\n    margin-left: 4px;\n    line-height: 19px;\n  }\n</style>\n<div class=\"ansiout\"></div>"
						]
					}
				}
			],
			"execution_count": 12
		},
		{
			"cell_type": "code",
			"source": [
				""
			],
			"metadata": {},
			"outputs": [],
			"execution_count": 13
		},
		{
			"cell_type": "code",
			"source": [
				""
			],
			"metadata": {},
			"outputs": [],
			"execution_count": 14
		}
	],
	"metadata": {
		"name": "OddsPredictor Names",
		"notebookId": 799229367368306
	},
	"nbformat": 4,
	"nbformat_minor": 0
}